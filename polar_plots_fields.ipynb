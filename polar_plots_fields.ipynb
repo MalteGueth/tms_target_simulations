{
 "cells": [
  {
   "cell_type": "code",
   "execution_count": 19,
   "metadata": {},
   "outputs": [],
   "source": [
    "import plotly\n",
    "import plotly.graph_objs as go\n",
    "\n",
    "file = '/Users/maltegueth/Desktop/sub128_roi_means_peaks.txt'\n",
    "\n",
    "textfile = open(file)\n",
    "data = []\n",
    "for line in textfile:\n",
    "    row_data = line.strip(\"\\n\").split()\n",
    "    for i, item in enumerate(row_data):\n",
    "        try:\n",
    "            row_data[i] = float(item)\n",
    "        except ValueError:\n",
    "            pass\n",
    "    data.append(row_data)"
   ]
  },
  {
   "cell_type": "code",
   "execution_count": 16,
   "metadata": {},
   "outputs": [
    {
     "data": {
      "text/html": [
       "<iframe id=\"igraph\" scrolling=\"no\" style=\"border:none;\" seamless=\"seamless\" src=\"https://plot.ly/~mgueth/12.embed\" height=\"525px\" width=\"100%\"></iframe>"
      ],
      "text/plain": [
       "<chart_studio.tools.PlotlyDisplay object>"
      ]
     },
     "execution_count": 16,
     "metadata": {},
     "output_type": "execute_result"
    }
   ],
   "source": [
    "dat = [\n",
    "    go.Barpolar(\n",
    "        r=[num[0] for num in data],\n",
    "        theta = ['0','15','30','45','60','75','90','105','120','135','150','165','180'],\n",
    "        name='average electric field strength [V/m]',\n",
    "        marker=dict(color='rgb(106,81,163)'\n",
    "        )\n",
    "    )\n",
    "]\n",
    "\n",
    "layout = go.Layout(\n",
    "  title='Electric field parameters by coil orientation',\n",
    "  polar = dict(\n",
    "    radialaxis = dict(\n",
    "      visible = True,\n",
    "      range = [0, 1.8]\n",
    "    )\n",
    "  ),\n",
    "  showlegend = True\n",
    ")\n",
    "\n",
    "fig = go.Figure(data=dat, layout=layout)\n",
    "plotly.plotly.iplot(fig, filename = \"sub128_orientation_ave\")"
   ]
  },
  {
   "cell_type": "code",
   "execution_count": 15,
   "metadata": {},
   "outputs": [
    {
     "data": {
      "text/html": [
       "<iframe id=\"igraph\" scrolling=\"no\" style=\"border:none;\" seamless=\"seamless\" src=\"https://plot.ly/~mgueth/10.embed\" height=\"525px\" width=\"100%\"></iframe>"
      ],
      "text/plain": [
       "<chart_studio.tools.PlotlyDisplay object>"
      ]
     },
     "execution_count": 15,
     "metadata": {},
     "output_type": "execute_result"
    }
   ],
   "source": [
    "dat = [\n",
    "    go.Barpolar(\n",
    "        r=[num[1] for num in data],\n",
    "        theta = ['0','15','30','45','60','75','90','105','120','135','150','165','180'],\n",
    "        name='electric field peak values [V/m]',\n",
    "        marker=dict(color='rgb(158,154,200)'\n",
    "        )\n",
    "    )\n",
    "]\n",
    "\n",
    "layout = go.Layout(\n",
    "  title='Electric field parameters by coil orientation',\n",
    "  polar = dict(\n",
    "    radialaxis = dict(\n",
    "      visible = True,\n",
    "      range = [0, 2.5]\n",
    "    )\n",
    "  ),\n",
    "  showlegend = True\n",
    ")\n",
    "\n",
    "fig = go.Figure(data=dat, layout=layout)\n",
    "plotly.plotly.iplot(fig, filename = \"sub128_orientation_peaks\")"
   ]
  },
  {
   "cell_type": "code",
   "execution_count": 30,
   "metadata": {},
   "outputs": [
    {
     "data": {
      "text/html": [
       "<iframe id=\"igraph\" scrolling=\"no\" style=\"border:none;\" seamless=\"seamless\" src=\"https://plot.ly/~mgueth/14.embed\" height=\"525px\" width=\"100%\"></iframe>"
      ],
      "text/plain": [
       "<chart_studio.tools.PlotlyDisplay object>"
      ]
     },
     "execution_count": 30,
     "metadata": {},
     "output_type": "execute_result"
    }
   ],
   "source": [
    "dat = [\n",
    "    go.Barpolar(\n",
    "        r=[num[0] for num in data],\n",
    "        theta = ['0','15','30','45','60','75','90','105','120','135','150','165','180'],\n",
    "        name='average electric field strength [V/m]',\n",
    "        marker=dict(color='rgb(106,81,163)'),\n",
    "        subplot='polar1'),\n",
    "    go.Barpolar(\n",
    "        r=[num[1] for num in data],\n",
    "        theta = ['0','15','30','45','60','75','90','105','120','135','150','165','180'],\n",
    "        name='electric field peak values [V/m]',\n",
    "        marker=dict(color='rgb(158,154,200)'),\n",
    "        subplot='polar2')\n",
    "]\n",
    "\n",
    "layout = go.Layout(\n",
    "  title='Electric field parameters by coil orientation',\n",
    "  polar1 = dict(\n",
    "    radialaxis = dict(\n",
    "      visible = True,\n",
    "      range = [0, 1.8]\n",
    "        ),\n",
    "      domain = dict(\n",
    "        x = [0, 0.4],\n",
    "        y = [0, 1]\n",
    "      ),\n",
    "      sector = [0,180]),\n",
    "  polar2 = dict(\n",
    "    radialaxis = dict(\n",
    "      visible = True,\n",
    "      range = [0, 2.5]\n",
    "        ),\n",
    "      domain = dict(\n",
    "        x = [0.6, 1],\n",
    "        y = [0, 1]\n",
    "      ),\n",
    "      sector = [0,180]),\n",
    "  showlegend = True\n",
    ")\n",
    "\n",
    "fig = go.Figure(data=dat, layout=layout)\n",
    "plotly.plotly.iplot(fig, filename = \"sub128_orientation_params\")"
   ]
  }
 ],
 "metadata": {
  "kernelspec": {
   "display_name": "Python 3",
   "language": "python",
   "name": "python3"
  },
  "language_info": {
   "codemirror_mode": {
    "name": "ipython",
    "version": 3
   },
   "file_extension": ".py",
   "mimetype": "text/x-python",
   "name": "python",
   "nbconvert_exporter": "python",
   "pygments_lexer": "ipython3",
   "version": "3.6.7"
  }
 },
 "nbformat": 4,
 "nbformat_minor": 2
}
